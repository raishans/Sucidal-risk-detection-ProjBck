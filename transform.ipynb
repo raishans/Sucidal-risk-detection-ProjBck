{
 "cells": [
  {
   "cell_type": "code",
   "execution_count": 2,
   "metadata": {},
   "outputs": [],
   "source": [
    "import csv\n",
    "\n",
    "# Define the condition for transformation\n",
    "def transform_string(string):\n",
    "    if string == \"suicide\":\n",
    "        return 1\n",
    "    else:\n",
    "        return 0\n",
    "\n",
    "# Define input and output file paths\n",
    "input_file = \"TestSet.csv\"\n",
    "output_file = \"Output.csv\"\n",
    "\n",
    "# Read the CSV file and transform the data\n",
    "with open(input_file, \"r\") as csv_file:\n",
    "    reader = csv.DictReader(csv_file)\n",
    "    data = []\n",
    "    for row in reader:\n",
    "        # Apply the transformation to the string field\n",
    "        row[\"class\"] = transform_string(row[\"class\"])\n",
    "        data.append(row)\n",
    "\n",
    "# Write the updated data to a new CSV file\n",
    "with open(output_file, \"w\", newline=\"\") as csv_file:\n",
    "    fieldnames = list(data[0].keys())\n",
    "    writer = csv.DictWriter(csv_file, fieldnames=fieldnames)\n",
    "    writer.writeheader()\n",
    "    for row in data:\n",
    "        writer.writerow(row)\n"
   ]
  }
 ],
 "metadata": {
  "kernelspec": {
   "display_name": "base",
   "language": "python",
   "name": "python3"
  },
  "language_info": {
   "codemirror_mode": {
    "name": "ipython",
    "version": 3
   },
   "file_extension": ".py",
   "mimetype": "text/x-python",
   "name": "python",
   "nbconvert_exporter": "python",
   "pygments_lexer": "ipython3",
   "version": "3.8.3"
  },
  "orig_nbformat": 4
 },
 "nbformat": 4,
 "nbformat_minor": 2
}
